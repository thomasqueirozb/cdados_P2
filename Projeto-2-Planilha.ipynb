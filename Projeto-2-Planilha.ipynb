{
 "cells": [
  {
   "cell_type": "markdown",
   "metadata": {},
   "source": [
    "# Projeto 2 - Classificador Automático de Sentimento\n",
    "\n",
    "## Parte I - Preparando o ambiente\n",
    "\n",
    "Para realizar a conexão com o Twitter. Execute o comando abaixo apenas uma vez para instalar a biblioteca `requests`:"
   ]
  },
  {
   "cell_type": "code",
   "execution_count": 8,
   "metadata": {},
   "outputs": [
    {
     "name": "stdout",
     "output_type": "stream",
     "text": [
      "Solving environment: ...working... done\n",
      "\n",
      "## Package Plan ##\n",
      "\n",
      "  environment location: C:\\Users\\thoma\\AppData\\Local\\Continuum\\anaconda3\n",
      "\n",
      "  added / updated specs: \n",
      "    - requests\n",
      "\n",
      "\n",
      "The following packages will be downloaded:\n",
      "\n",
      "    package                    |            build\n",
      "    ---------------------------|-----------------\n",
      "    certifi-2018.8.24          |           py36_1         140 KB\n",
      "    conda-4.5.11               |           py36_0         1.0 MB\n",
      "    ------------------------------------------------------------\n",
      "                                           Total:         1.2 MB\n",
      "\n",
      "The following packages will be UPDATED:\n",
      "\n",
      "    certifi: 2018.8.13-py36_0 --> 2018.8.24-py36_1\n",
      "    conda:   4.5.9-py36_0     --> 4.5.11-py36_0   \n",
      "\n",
      "\n",
      "Downloading and Extracting Packages\n",
      "Preparing transaction: ...working... done\n",
      "Verifying transaction: ...working... done\n",
      "Executing transaction: ...working... done\n"
     ]
    },
    {
     "name": "stderr",
     "output_type": "stream",
     "text": [
      "\n",
      "certifi-2018.8.24    |  140 KB |            |   0% \n",
      "certifi-2018.8.24    |  140 KB | #######5   |  75% \n",
      "certifi-2018.8.24    |  140 KB | ########## | 100% \n",
      "\n",
      "conda-4.5.11         |  1.0 MB |            |   0% \n",
      "conda-4.5.11         |  1.0 MB | 1          |   1% \n",
      "conda-4.5.11         |  1.0 MB | ####5      |  45% \n",
      "conda-4.5.11         |  1.0 MB | #######5   |  75% \n",
      "conda-4.5.11         |  1.0 MB | #########1 |  91% \n",
      "conda-4.5.11         |  1.0 MB | ########## | 100% \n"
     ]
    }
   ],
   "source": [
    "!conda install -y requests"
   ]
  },
  {
   "cell_type": "markdown",
   "metadata": {},
   "source": [
    "Agora vamos configurar os dados do servidor para receber a planilha com os tweets:"
   ]
  },
  {
   "cell_type": "code",
   "execution_count": 1,
   "metadata": {},
   "outputs": [],
   "source": [
    "servidor = \"18.219.212.117\""
   ]
  },
  {
   "cell_type": "markdown",
   "metadata": {},
   "source": [
    "Selecione um produto (nem muito óbvio nem desconhecido) que deseja classificar:"
   ]
  },
  {
   "cell_type": "code",
   "execution_count": 2,
   "metadata": {},
   "outputs": [
    {
     "name": "stdout",
     "output_type": "stream",
     "text": [
      "Digite o tópico a pesquisar: spiderman\n"
     ]
    }
   ],
   "source": [
    "topico = input(\"Digite o tópico a pesquisar: \")"
   ]
  },
  {
   "cell_type": "code",
   "execution_count": 3,
   "metadata": {},
   "outputs": [
    {
     "name": "stdout",
     "output_type": "stream",
     "text": [
      "Digite o idioma de interesse para os tweets: en - para inglês, pt - para português: en\n"
     ]
    }
   ],
   "source": [
    "lang = ''\n",
    "while lang not in ['pt', 'en']:\n",
    "    lang = input(\"Digite o idioma de interesse para os tweets: en - para inglês, pt - para português: \")"
   ]
  },
  {
   "cell_type": "code",
   "execution_count": 6,
   "metadata": {},
   "outputs": [
    {
     "name": "stdout",
     "output_type": "stream",
     "text": [
      "Digite a chave do servidor (pegue com os professores): \n"
     ]
    }
   ],
   "source": [
    "chave = input(\"Digite a chave do servidor (pegue com os professores): \")"
   ]
  },
  {
   "cell_type": "code",
   "execution_count": 5,
   "metadata": {},
   "outputs": [
    {
     "data": {
      "text/html": [
       "<a target='_new' href='http://18.219.212.117/?topic=spiderman&lang=en&key=72d5f2'> Baixe os tweets sobre spiderman aqui </a>"
      ],
      "text/plain": [
       "<IPython.core.display.HTML object>"
      ]
     },
     "metadata": {},
     "output_type": "display_data"
    }
   ],
   "source": [
    "from IPython.display import display, HTML\n",
    "import urllib.parse\n",
    "\n",
    "topico_url = urllib.parse.quote_plus(topico)\n",
    "\n",
    "# create a string template for the HTML snippet\n",
    "link_t = \"<a target='_new' href='http://{}/?topic={}&lang={}&key={}'> Baixe os tweets sobre {} aqui </a>\" \\\n",
    "    .format(servidor, topico_url, lang, chave, topico)\n",
    "\n",
    "# create HTML object, using the string template\n",
    "html = HTML(link_t)\n",
    "\n",
    "# display the HTML object to put the link on the page:\n",
    "display(html)"
   ]
  },
  {
   "cell_type": "markdown",
   "metadata": {},
   "source": [
    "A célula acima vai gerar um excel que deve ser salvo em seu disco"
   ]
  },
  {
   "cell_type": "markdown",
   "metadata": {},
   "source": [
    "\n",
    "## Classificando as Mensagens\n",
    "\n",
    "Agora você deve abrir o arquivo Excel com as mensagens capturadas e classificar na Coluna B se a mensagem é \n",
    "relevante ou não para a empresa.\n",
    "\n",
    "Não se esqueça de colocar um nome para a coluna na célula **B1**.\n",
    "\n",
    "Fazer o mesmo na planilha de **Controle**.\n",
    "\n",
    "Terminada essa etapa, entregar o APS e volte a trabalhar no Notebook principal!"
   ]
  }
 ],
 "metadata": {
  "kernelspec": {
   "display_name": "Python 3",
   "language": "python",
   "name": "python3"
  },
  "language_info": {
   "codemirror_mode": {
    "name": "ipython",
    "version": 3
   },
   "file_extension": ".py",
   "mimetype": "text/x-python",
   "name": "python",
   "nbconvert_exporter": "python",
   "pygments_lexer": "ipython3",
   "version": "3.6.6"
  }
 },
 "nbformat": 4,
 "nbformat_minor": 2
}
