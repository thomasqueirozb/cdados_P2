{
 "cells": [
  {
   "cell_type": "markdown",
   "metadata": {},
   "source": [
    "# Projeto 2 - Classificador Automático de Sentimento\n",
    "\n",
    "Você foi contratado por uma empresa parar analisar como os clientes estão reagindo a um determinado produto no Twitter. A empresa deseja que você crie um programa que irá analisar as mensagens disponíveis e classificará como \"relevante\" ou \"irrelevante\". Com isso ela deseja que mensagens negativas, que denigrem o nome do produto, ou que mereçam destaque, disparem um foco de atenção da área de marketing.<br /><br />\n",
    "Como aluno de Ciência dos Dados, você lembrou do Teorema de Bayes, mais especificamente do Classificador Naive-Bayes, que é largamente utilizado em filtros anti-spam de e-mails. O classificador permite calcular qual a probabilidade de uma mensagem ser relevante dadas as palavras em seu conteúdo.<br /><br />\n",
    "Para realizar o MVP (*minimum viable product*) do projeto, você precisa implementar uma versão do classificador que \"aprende\" o que é relevante com uma base de treinamento e compara a performance dos resultados com uma base de testes.<br /><br />\n",
    "Após validado, o seu protótipo poderá também capturar e classificar automaticamente as mensagens da plataforma.\n",
    "\n",
    "## Informações do Projeto\n",
    "\n",
    "Prazo: 19/Set até às 23:59.<br />\n",
    "Grupo: 2 ou 3 pessoas - grupos com 3 pessoas terá uma rubrica diferenciada.<br /><br />\n",
    "Entregáveis via GitHub: \n",
    "* Arquivo notebook com o código do classificador, seguindo as orientações abaixo.\n",
    "* Arquivo Excel com as bases de treinamento e teste totalmente classificado.\n",
    "\n",
    "**NÃO gravar a key do professor no arquivo**\n",
    "\n",
    "\n",
    "### Entrega Intermediária: Check 1 - APS 2\n",
    "\n",
    "Até o dia 10/Set às 23:59, xlsx deve estar no Github com as seguintes evidências: \n",
    "\n",
    "  * Produto escolhido.\n",
    "  * Arquivo Excel contendo a base de treinamento e a base de testes já classificadas.\n",
    "\n",
    "Sugestão de leitura:<br />\n",
    "https://monkeylearn.com/blog/practical-explanation-naive-bayes-classifier/"
   ]
  },
  {
   "cell_type": "markdown",
   "metadata": {},
   "source": [
    "___\n",
    "\n",
    "## Parte I - Adquirindo a Base de Dados\n",
    "\n",
    "Acessar o notebook **Projeto-2-Planilha** para realizar a coleta dos dados. O grupo deve classificar os dados coletados manualmente."
   ]
  },
  {
   "cell_type": "markdown",
   "metadata": {},
   "source": [
    "___\n",
    "## Parte II - Montando o Classificador Naive-Bayes\n",
    "\n",
    "Com a base de treinamento montada, comece a desenvolver o classificador. Não se esqueça de implementar o Laplace Smoothing (https://en.wikipedia.org/wiki/Laplace_smoothing).\n",
    "\n",
    "Opcionalmente: \n",
    "* Limpar as mensagens removendo os caracteres: enter, :, \", ', (, ), etc. Não remover emojis.<br />\n",
    "* Corrigir separação de espaços entre palavras e/ou emojis.\n",
    "* Propor outras limpezas/transformações que não afetem a qualidade da informação.\n",
    "\n",
    "Escreva o seu código abaixo:"
   ]
  },
  {
   "cell_type": "code",
   "execution_count": 28,
   "metadata": {},
   "outputs": [],
   "source": [
    "import pandas as pd\n",
    "\n",
    "treinamento = pd.read_excel('spiderman.xlsx', sheet_name='Treinamento')\n",
    "teste = pd.read_excel('spiderman.xlsx', sheet_name='Teste')\n",
    "\n",
    "dfs = [treinamento,teste]"
   ]
  },
  {
   "cell_type": "code",
   "execution_count": 29,
   "metadata": {},
   "outputs": [],
   "source": [
    "def new_message(tweet):\n",
    "    tweet = tweet.lower()\n",
    "\n",
    "    \n",
    "    space_around = [\"?\",\"!\"]\n",
    "    for i in space_around:\n",
    "        tweet = tweet.replace(i,\" \"+i+\" \")\n",
    "\n",
    "    \n",
    "    space=[\",\", \";\", \"\\n\", \"\\xa0\",\"\\x00\", '\"', \"(\", \")\", \"“\", \"”\"]\n",
    "    for k in space:\n",
    "        tweet = tweet.replace(k,\" \")\n",
    "    \n",
    "    \n",
    "    remove=[\"'\",\"…\",\"*\",\"’\",\"‘\",'️']\n",
    "    for j in remove:\n",
    "        tweet = tweet.replace(j,\"\")\n",
    " \n",
    "\n",
    "    tweet = tweet.split(\" \")\n",
    "\n",
    "    \n",
    "    space_link = [\"-\", \":\", \".\", \"/\"]\n",
    "    \n",
    "    for i in range(0,len(tweet))[::-1]:\n",
    "        if tweet[i] == \"\":\n",
    "            tweet.pop(i)\n",
    "        \n",
    "        elif \"http\" in tweet[i] or \"https\" in tweet[i]:\n",
    "            tweet.pop(i)\n",
    "        else:\n",
    "            for l in space_link:\n",
    "                tweet[i] = tweet[i].replace(l,\" \")\n",
    "    \n",
    "    tweet = \" \".join(tweet)\n",
    "    tweet = tweet.split(\" \")\n",
    "    for i in range(0,len(tweet))[::-1]:\n",
    "        if tweet[i] == \"\":\n",
    "            tweet.pop(i)\n",
    "    \n",
    "    return tweet"
   ]
  },
  {
   "cell_type": "code",
   "execution_count": 63,
   "metadata": {},
   "outputs": [
    {
     "data": {
      "text/plain": [
       "spiderman           124\n",
       "the                 121\n",
       "rt                  116\n",
       "game                108\n",
       "new                 101\n",
       "these                94\n",
       "on                   93\n",
       "graphics             93\n",
       "are                  93\n",
       "😳                    92\n",
       "ridiculous           92\n",
       "@juicetoowavie       91\n",
       "is                   21\n",
       "!                    18\n",
       "so                   18\n",
       "to                   17\n",
       "like                 16\n",
       "was                  15\n",
       "good                 14\n",
       "insomniac            12\n",
       "pullin               12\n",
       "still                12\n",
       "im                   12\n",
       "up                   12\n",
       "@mista_moshi         12\n",
       "games                12\n",
       "hq                   12\n",
       "that                 11\n",
       "this                 11\n",
       "and                  11\n",
       "                   ... \n",
       "different             1\n",
       "🙈                     1\n",
       "honest                1\n",
       "tried                 1\n",
       "change                1\n",
       "fan                   1\n",
       "@unchartedcreed1      1\n",
       "#insomniac            1\n",
       "controls              1\n",
       "marketing             1\n",
       "week                  1\n",
       "pretty                1\n",
       "never                 1\n",
       "infinity              1\n",
       "ps4                   1\n",
       "oh                    1\n",
       "#avengerstower        1\n",
       "avengers              1\n",
       "ign                   1\n",
       "useless               1\n",
       "lazy                  1\n",
       "no                    1\n",
       "cool                  1\n",
       "rated                 1\n",
       "#dayoff               1\n",
       "done                  1\n",
       "your                  1\n",
       "love                  1\n",
       "friends               1\n",
       "bound                 1\n",
       "Length: 263, dtype: int64"
      ]
     },
     "execution_count": 63,
     "metadata": {},
     "output_type": "execute_result"
    }
   ],
   "source": [
    "from collections import defaultdict as ddict\n",
    "\n",
    "words = [{\"R\":[],\"I\":[]},{\"R\":[],\"I\":[]}]\n",
    "\n",
    "for df, index in zip(dfs,range(len(dfs))):\n",
    "    \n",
    "    new = []\n",
    "    \n",
    "    col_name = df.columns[0]\n",
    "    \n",
    "    for tweet, df_index in zip(df[col_name],df.index):\n",
    "        sub_df = df[df.index==df_index]\n",
    "\n",
    "        new_tweet = new_message(tweet)\n",
    "        \n",
    "        words[index][sub_df[\"Relevância\"][df_index]] += new_tweet\n",
    "        new.append(new_tweet)\n",
    "\n",
    "    dfs[index][col_name+\"_org\"] = new\n",
    "\n",
    "\n",
    "pd.Series(words[0][\"R\"]).value_counts()\n",
    "# pd.Series(words[1]).value_counts()\n",
    "\n",
    "# dfs[0].head()\n",
    "# words[1]\n",
    "# len(words)\n",
    "\n",
    "#         for word in new_tweet:\n",
    "#             words[index][word] += 1"
   ]
  },
  {
   "cell_type": "code",
   "execution_count": 65,
   "metadata": {},
   "outputs": [
    {
     "data": {
      "text/plain": [
       "['Teste', 'Relevância', 'Teste_org']"
      ]
     },
     "execution_count": 65,
     "metadata": {},
     "output_type": "execute_result"
    }
   ],
   "source": [
    "# dfs_org = []\n",
    "# dfs[0].head()\n",
    "# df\n",
    "\n",
    "# for item, index in zip(dfs,range(len(dfs))):\n",
    "    \n",
    "#     col_name=item.columns[0]\n",
    "#     dfs_org.append(pd.DataFrame\n",
    "#                    (data={f\"{col_name}\" : list(words[index].keys()),\n",
    "#                           \"Value\"       : list(words[index].values())}\n",
    "#                    ).sort_values(by=\"Value\",ascending=False)\n",
    "#                     .reset_index(drop=True))\n",
    "\n"
   ]
  },
  {
   "cell_type": "code",
   "execution_count": 5,
   "metadata": {},
   "outputs": [],
   "source": [
    "# dfs_org[0][\"Probability\"] = dfs_org[0][\"Value\"] / len(dfs_org[0])\n",
    "# dfs_org[0][\"ProbabilityR\"] = len(dfs_org[0][dfs_org[0].columns[0]].loc[dfs[0][\"Relevância\"]])\n",
    "# dfs_org[0]\n",
    "\n",
    "# R_col=[]\n",
    "# I_col=[]\n",
    "\n",
    "# for i in dfs_org[0][dfs_org[0].columns[0]]:    \n",
    "#     R = 0\n",
    "#     for j in dfs[0][dfs[0][\"Relevância\"]==\"R\"][dfs_org[0].columns[0]]:\n",
    "#         R+=j.count(i)\n",
    "    \n",
    "#     I = 0\n",
    "#     for j in dfs[0][dfs[0][\"Relevância\"]==\"I\"][dfs_org[0].columns[0]]:\n",
    "#         I+=j.count(i)\n",
    "    \n",
    "\n",
    "#     R_col.append(R)\n",
    "#     I_col.append(I)\n",
    "# dfs_org[0][\"R\"]=R_col\n",
    "# dfs_org[0][\"I\"]=I_col"
   ]
  },
  {
   "cell_type": "code",
   "execution_count": 12,
   "metadata": {},
   "outputs": [],
   "source": [
    "# %reset -f"
   ]
  },
  {
   "cell_type": "markdown",
   "metadata": {},
   "source": [
    "___\n",
    "## Verificando a performance\n",
    "\n",
    "Agora você deve testar o seu Classificador com a base de Testes.<br /><br /> \n",
    "\n",
    "Você deve extrair as seguintes medidas:\n",
    "* Porcentagem de positivos falsos (marcados como relevante mas não são relevantes)\n",
    "* Porcentagem de positivos verdadeiros (marcado como relevante e são relevantes)\n",
    "* Porcentagem de negativos verdadeiros (marcado como não relevante e não são relevantes)\n",
    "* Porcentagem de negativos falsos (marcado como não relevante e são relevantes)\n",
    "\n",
    "Obrigatório para grupos de 3 alunos:\n",
    "* Criar categorias intermediárias de relevância baseado na diferença de probabilidades. Exemplo: muito relevante, relevante, neutro, irrelevante e muito irrelevante."
   ]
  },
  {
   "cell_type": "code",
   "execution_count": null,
   "metadata": {
    "scrolled": true
   },
   "outputs": [],
   "source": []
  },
  {
   "cell_type": "markdown",
   "metadata": {},
   "source": [
    "___\n",
    "## Concluindo\n",
    "\n",
    "Escreva aqui a sua conclusão.<br /> \n",
    "Faça um comparativo qualitativo sobre as medidas obtidas.<br />\n",
    "Explique como são tratadas as mensagens com dupla negação e sarcasmo.<br />\n",
    "Proponha um plano de expansão. Por que eles devem continuar financiando o seu projeto?<br />\n",
    "\n",
    "Opcionalmente: \n",
    "* Discorrer por que não posso alimentar minha base de Treinamento automaticamente usando o próprio classificador, aplicado a novos tweets.\n",
    "* Propor diferentes cenários de uso para o classificador Naive-Bayes. Cenários sem intersecção com este projeto.\n",
    "* Sugerir e explicar melhorias reais no classificador com indicações concretas de como implementar (não é preciso codificar, mas indicar como fazer e material de pesquisa sobre o assunto).\n"
   ]
  },
  {
   "cell_type": "code",
   "execution_count": null,
   "metadata": {},
   "outputs": [],
   "source": []
  }
 ],
 "metadata": {
  "kernelspec": {
   "display_name": "Python 3",
   "language": "python",
   "name": "python3"
  },
  "language_info": {
   "codemirror_mode": {
    "name": "ipython",
    "version": 3
   },
   "file_extension": ".py",
   "mimetype": "text/x-python",
   "name": "python",
   "nbconvert_exporter": "python",
   "pygments_lexer": "ipython3",
   "version": "3.6.6"
  }
 },
 "nbformat": 4,
 "nbformat_minor": 2
}
