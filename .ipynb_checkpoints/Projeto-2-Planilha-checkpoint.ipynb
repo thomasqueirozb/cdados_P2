{
 "cells": [
  {
   "cell_type": "markdown",
   "metadata": {},
   "source": [
    "# Projeto 2 - Classificador Automático de Sentimento\n",
    "\n",
    "## Parte I - Preparando o ambiente\n",
    "\n",
    "Para realizar a conexão com o Twitter. Execute o comando abaixo apenas uma vez para instalar a biblioteca `requests`:"
   ]
  },
  {
   "cell_type": "code",
   "execution_count": 1,
   "metadata": {},
   "outputs": [],
   "source": [
    "#!conda install -y requests"
   ]
  },
  {
   "cell_type": "markdown",
   "metadata": {},
   "source": [
    "Agora vamos configurar os dados do servidor para receber a planilha com os tweets:"
   ]
  },
  {
   "cell_type": "code",
   "execution_count": 2,
   "metadata": {},
   "outputs": [],
   "source": [
    "servidor = \"18.219.212.117\""
   ]
  },
  {
   "cell_type": "markdown",
   "metadata": {},
   "source": [
    "Selecione um produto (nem muito óbvio nem desconhecido) que deseja classificar:"
   ]
  },
  {
   "cell_type": "code",
   "execution_count": 4,
   "metadata": {},
   "outputs": [
    {
     "name": "stdout",
     "output_type": "stream",
     "text": [
      "Digite o tópico a pesquisar: Bolsonaro\n"
     ]
    }
   ],
   "source": [
    "topico = input(\"Digite o tópico a pesquisar: \")"
   ]
  },
  {
   "cell_type": "code",
   "execution_count": 5,
   "metadata": {},
   "outputs": [
    {
     "name": "stdout",
     "output_type": "stream",
     "text": [
      "Digite o idioma de interesse para os tweets: en - para inglês, pt - para português: pt\n"
     ]
    }
   ],
   "source": [
    "lang = ''\n",
    "while lang not in ['pt', 'en']:\n",
    "    lang = input(\"Digite o idioma de interesse para os tweets: en - para inglês, pt - para português: \")"
   ]
  },
  {
   "cell_type": "code",
   "execution_count": null,
   "metadata": {},
   "outputs": [],
   "source": [
    "chave = input(\"Digite a chave do servidor (pegue com os professores): \")"
   ]
  },
  {
   "cell_type": "code",
   "execution_count": null,
   "metadata": {},
   "outputs": [],
   "source": [
    "from IPython.display import display, HTML\n",
    "import urllib.parse\n",
    "\n",
    "topico_url = urllib.parse.quote_plus(topico)\n",
    "\n",
    "# create a string template for the HTML snippet\n",
    "link_t = \"<a target='_new' href='http://{}/?topic={}&lang={}&key={}'> Baixe os tweets sobre {} aqui </a>\" \\\n",
    "    .format(servidor, topico_url, lang, chave, topico)\n",
    "\n",
    "# create HTML object, using the string template\n",
    "html = HTML(link_t)\n",
    "\n",
    "# display the HTML object to put the link on the page:\n",
    "display(html)"
   ]
  },
  {
   "cell_type": "markdown",
   "metadata": {},
   "source": [
    "A célula acima vai gerar um excel que deve ser salvo em seu disco"
   ]
  },
  {
   "cell_type": "markdown",
   "metadata": {},
   "source": [
    "\n",
    "## Classificando as Mensagens\n",
    "\n",
    "Agora você deve abrir o arquivo Excel com as mensagens capturadas e classificar na Coluna B se a mensagem é \n",
    "relevante ou não para a empresa.\n",
    "\n",
    "Não se esqueça de colocar um nome para a coluna na célula **B1**.\n",
    "\n",
    "Fazer o mesmo na planilha de **Controle**.\n",
    "\n",
    "Terminada essa etapa, entregar o APS e volte a trabalhar no Notebook principal!"
   ]
  }
 ],
 "metadata": {
  "kernelspec": {
   "display_name": "Python 3",
   "language": "python",
   "name": "python3"
  },
  "language_info": {
   "codemirror_mode": {
    "name": "ipython",
    "version": 3
   },
   "file_extension": ".py",
   "mimetype": "text/x-python",
   "name": "python",
   "nbconvert_exporter": "python",
   "pygments_lexer": "ipython3",
   "version": "3.6.6"
  }
 },
 "nbformat": 4,
 "nbformat_minor": 2
}
